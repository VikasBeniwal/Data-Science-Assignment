{
 "cells": [
  {
   "cell_type": "markdown",
   "id": "45261946-73d9-486b-9636-895a552192f4",
   "metadata": {},
   "source": [
    "Q1. Create one variable containing following type of data\n",
    "(1) String\n",
    "(2) List\n",
    "(3) Float\n",
    "(4) Tuple"
   ]
  },
  {
   "cell_type": "markdown",
   "id": "7a731a90-9e39-462e-bb81-5e58eaf06754",
   "metadata": {},
   "source": [
    "Ans. \n",
    "1. String"
   ]
  },
  {
   "cell_type": "code",
   "execution_count": 1,
   "id": "ce88429b-b389-477f-96f4-b3c32de53940",
   "metadata": {},
   "outputs": [],
   "source": [
    "s='Create a string'"
   ]
  },
  {
   "cell_type": "code",
   "execution_count": 4,
   "id": "94597bc3-b7fb-446f-8f2b-61c803d75781",
   "metadata": {},
   "outputs": [
    {
     "name": "stdout",
     "output_type": "stream",
     "text": [
      "Create a string\n"
     ]
    },
    {
     "data": {
      "text/plain": [
       "str"
      ]
     },
     "execution_count": 4,
     "metadata": {},
     "output_type": "execute_result"
    }
   ],
   "source": [
    "print(s)\n",
    "type(s)"
   ]
  },
  {
   "cell_type": "markdown",
   "id": "1385717e-4258-4716-b6ee-ed8f076ef1d2",
   "metadata": {},
   "source": [
    "2. List"
   ]
  },
  {
   "cell_type": "code",
   "execution_count": 5,
   "id": "8523a39a-a44c-4feb-90bb-0444a1ba2ba8",
   "metadata": {},
   "outputs": [],
   "source": [
    "l=[]"
   ]
  },
  {
   "cell_type": "code",
   "execution_count": 6,
   "id": "a6bf1503-f5a0-4f92-a099-1f1814e2854b",
   "metadata": {},
   "outputs": [
    {
     "data": {
      "text/plain": [
       "list"
      ]
     },
     "execution_count": 6,
     "metadata": {},
     "output_type": "execute_result"
    }
   ],
   "source": [
    "type(l)"
   ]
  },
  {
   "cell_type": "code",
   "execution_count": 7,
   "id": "17f5fa92-8af1-480a-af70-c5711b281732",
   "metadata": {},
   "outputs": [],
   "source": [
    "l1=[1,4,5,'list',45.5,4+5j,True]"
   ]
  },
  {
   "cell_type": "code",
   "execution_count": 8,
   "id": "9a1d9ea7-40a4-4c5c-b422-63621eb66b31",
   "metadata": {},
   "outputs": [
    {
     "name": "stdout",
     "output_type": "stream",
     "text": [
      "[1, 4, 5, 'list', 45.5, (4+5j), True]\n"
     ]
    },
    {
     "data": {
      "text/plain": [
       "list"
      ]
     },
     "execution_count": 8,
     "metadata": {},
     "output_type": "execute_result"
    }
   ],
   "source": [
    "print(l1)\n",
    "type(l1)"
   ]
  },
  {
   "cell_type": "markdown",
   "id": "12f9725f-a5d2-41d5-8060-838a2a94bf55",
   "metadata": {},
   "source": [
    "3. Float"
   ]
  },
  {
   "cell_type": "code",
   "execution_count": 9,
   "id": "8aa03dd7-fba0-4da9-b5a2-050eb083b9dd",
   "metadata": {},
   "outputs": [],
   "source": [
    "f=45.5"
   ]
  },
  {
   "cell_type": "code",
   "execution_count": 10,
   "id": "09dbb4f6-acb0-441f-9266-661295c9bb91",
   "metadata": {},
   "outputs": [
    {
     "name": "stdout",
     "output_type": "stream",
     "text": [
      "45.5\n"
     ]
    },
    {
     "data": {
      "text/plain": [
       "float"
      ]
     },
     "execution_count": 10,
     "metadata": {},
     "output_type": "execute_result"
    }
   ],
   "source": [
    "print(f)\n",
    "type(f)"
   ]
  },
  {
   "cell_type": "markdown",
   "id": "44a1de9f-c9e7-4932-9163-be02476fdc7e",
   "metadata": {},
   "source": [
    "4. Tuple"
   ]
  },
  {
   "cell_type": "code",
   "execution_count": 11,
   "id": "0ce0632e-24ad-4aca-9302-3a4a6064ca0e",
   "metadata": {},
   "outputs": [],
   "source": [
    "t=()"
   ]
  },
  {
   "cell_type": "code",
   "execution_count": 12,
   "id": "8e076b60-3a10-4d14-84e6-be0017cbf283",
   "metadata": {},
   "outputs": [
    {
     "data": {
      "text/plain": [
       "tuple"
      ]
     },
     "execution_count": 12,
     "metadata": {},
     "output_type": "execute_result"
    }
   ],
   "source": [
    "type(t)"
   ]
  },
  {
   "cell_type": "code",
   "execution_count": 13,
   "id": "67718ee4-4b02-4302-b6e5-689c5a1ae54f",
   "metadata": {},
   "outputs": [],
   "source": [
    "t1=(4,5,6,78,'tuple',45.5)"
   ]
  },
  {
   "cell_type": "code",
   "execution_count": 14,
   "id": "8800e2ec-8d82-4b5b-ad83-b31eb3a4f66e",
   "metadata": {},
   "outputs": [
    {
     "name": "stdout",
     "output_type": "stream",
     "text": [
      "(4, 5, 6, 78, 'tuple', 45.5)\n"
     ]
    },
    {
     "data": {
      "text/plain": [
       "tuple"
      ]
     },
     "execution_count": 14,
     "metadata": {},
     "output_type": "execute_result"
    }
   ],
   "source": [
    "print(t1)\n",
    "type(t1)"
   ]
  },
  {
   "cell_type": "code",
   "execution_count": null,
   "id": "d5f3cd73-a8e4-4b9e-9e26-4f88edd580e8",
   "metadata": {},
   "outputs": [],
   "source": []
  },
  {
   "cell_type": "markdown",
   "id": "75f90da1-c0eb-49ea-8985-c23e44b64e74",
   "metadata": {},
   "source": [
    "Q2. Given are some following variables containing data\n",
    "(1) var1=''\n",
    "(2) var2='[DS,ML,Python]'\n",
    "(3) var3=['DS','ML','Python']\n",
    "(4) var4= 1.\n",
    "\n",
    "What will be the data type od the above given variable."
   ]
  },
  {
   "cell_type": "markdown",
   "id": "0d7ba751-837c-4a60-8fca-785bca2f80f1",
   "metadata": {},
   "source": [
    "Ans."
   ]
  },
  {
   "cell_type": "code",
   "execution_count": 7,
   "id": "f62ef318-2732-4798-ac12-c352e26f86d8",
   "metadata": {},
   "outputs": [
    {
     "data": {
      "text/plain": [
       "str"
      ]
     },
     "execution_count": 7,
     "metadata": {},
     "output_type": "execute_result"
    }
   ],
   "source": [
    "#(1) var1='' => This data type is a string (str). \n",
    "var1=''  \n",
    "type(var1)   \n",
    "     "
   ]
  },
  {
   "cell_type": "code",
   "execution_count": 3,
   "id": "413defa7-ce90-421a-a003-91f2c6b84917",
   "metadata": {},
   "outputs": [
    {
     "data": {
      "text/plain": [
       "str"
      ]
     },
     "execution_count": 3,
     "metadata": {},
     "output_type": "execute_result"
    }
   ],
   "source": [
    "#(2) var2='[DS,ML,Python]' => This data typeis a string(str)\n",
    "var2='[DS,ML,Python]'\n",
    "type(var2)"
   ]
  },
  {
   "cell_type": "code",
   "execution_count": 5,
   "id": "338862e7-a5de-455a-9d20-80e79f6406c2",
   "metadata": {},
   "outputs": [
    {
     "data": {
      "text/plain": [
       "list"
      ]
     },
     "execution_count": 5,
     "metadata": {},
     "output_type": "execute_result"
    }
   ],
   "source": [
    "#(3) var3=['DS','ML','Python'] This data type is a List.\n",
    "var3=['DS','ML','Python']\n",
    "type(var3)"
   ]
  },
  {
   "cell_type": "code",
   "execution_count": 6,
   "id": "291d4ecf-fd0e-4474-ab80-4cf809a758ba",
   "metadata": {},
   "outputs": [
    {
     "data": {
      "text/plain": [
       "float"
      ]
     },
     "execution_count": 6,
     "metadata": {},
     "output_type": "execute_result"
    }
   ],
   "source": [
    "#(4) var4= 1. => This data type is a float.\n",
    "var4= 1.\n",
    "type(var4)"
   ]
  },
  {
   "cell_type": "markdown",
   "id": "3a7d5241-9d6e-4761-b63f-7825874f6372",
   "metadata": {},
   "source": [
    "Q3. Explain the use of the following operators using an example.\n",
    "(1) /\n",
    "(2) %\n",
    "(3) //\n",
    "(4) **"
   ]
  },
  {
   "cell_type": "markdown",
   "id": "a8bf9ac7-5e81-40db-ae43-c5d889de65de",
   "metadata": {},
   "source": [
    "Ans."
   ]
  },
  {
   "cell_type": "code",
   "execution_count": 9,
   "id": "ab365a2c-e484-4ccb-8f55-a4ee1116d4a1",
   "metadata": {},
   "outputs": [
    {
     "name": "stdout",
     "output_type": "stream",
     "text": [
      "22.5\n"
     ]
    }
   ],
   "source": [
    "#(1) / (Division Operator):\n",
    "#The division operator is used to divide the numbers. It returns a float number result.\n",
    "\n",
    "a=45/2\n",
    "print(a)"
   ]
  },
  {
   "cell_type": "code",
   "execution_count": 11,
   "id": "a2b65e5e-4d22-4c48-801c-d7d24dd759e0",
   "metadata": {},
   "outputs": [
    {
     "name": "stdout",
     "output_type": "stream",
     "text": [
      "1\n"
     ]
    }
   ],
   "source": [
    "#(2) % (Modulus Operator)\n",
    "#The modulus operator is used to find the remainder when numbers is divided.\n",
    "b=45%2\n",
    "print(b)"
   ]
  },
  {
   "cell_type": "code",
   "execution_count": 12,
   "id": "b93600fc-11ae-48e7-bb7f-34a06e474cdd",
   "metadata": {},
   "outputs": [
    {
     "name": "stdout",
     "output_type": "stream",
     "text": [
      "22\n"
     ]
    }
   ],
   "source": [
    "#(3) // (Floor Division Operator):\n",
    "#The floor division operator is used to divide numbers and round down to the nearest whole number. It returns an integer result.\n",
    "c=45//2\n",
    "print(c)"
   ]
  },
  {
   "cell_type": "code",
   "execution_count": 13,
   "id": "46c37b34-538f-4a3c-8229-4508356de4c0",
   "metadata": {},
   "outputs": [
    {
     "name": "stdout",
     "output_type": "stream",
     "text": [
      "91125\n"
     ]
    }
   ],
   "source": [
    "#(4) ** (Exponentiation Operator):\n",
    "#The exponentiation operator is used to raise a number to a certain power.\n",
    "d=45**3\n",
    "print(d)"
   ]
  },
  {
   "cell_type": "markdown",
   "id": "5a62c2e4-35ac-4eb4-bfb6-8dbcb6177d79",
   "metadata": {},
   "source": [
    "Q4. Create a list of length 10 of your choice containing multiple types of data . Using for loop print the element and its data type."
   ]
  },
  {
   "cell_type": "markdown",
   "id": "af363531-889c-4676-bddc-00c123cf76aa",
   "metadata": {},
   "source": [
    "Ans."
   ]
  },
  {
   "cell_type": "code",
   "execution_count": 16,
   "id": "75ab5c1b-649d-48b9-92d2-65e5293221b4",
   "metadata": {},
   "outputs": [
    {
     "name": "stdout",
     "output_type": "stream",
     "text": [
      "45 <class 'int'>\n",
      "hello <class 'str'>\n",
      "True <class 'bool'>\n",
      "45.12 <class 'float'>\n",
      "(4, 5) <class 'tuple'>\n",
      "{45, 78} <class 'set'>\n",
      "65 <class 'int'>\n",
      "12.3 <class 'float'>\n",
      "False <class 'bool'>\n",
      "[45, 12] <class 'list'>\n",
      "10\n"
     ]
    }
   ],
   "source": [
    "l=[45,'hello',True,45.12,(4,5),{45,78},65,12.3,False,[45,12]]\n",
    "for i in l:\n",
    "    print(i,type(i))   \n",
    "s=len(l)\n",
    "print(s)"
   ]
  },
  {
   "cell_type": "markdown",
   "id": "795a0727-ba9c-4b25-ad02-e8a0eed8d60c",
   "metadata": {},
   "source": [
    "Q5. Using a while loop verify if the number A is purely divisible by number B and if so then how many times it can be divisible."
   ]
  },
  {
   "cell_type": "markdown",
   "id": "6905ec7a-9211-4bab-a3e5-686999ce64cf",
   "metadata": {},
   "source": [
    "Ans."
   ]
  },
  {
   "cell_type": "code",
   "execution_count": 17,
   "id": "4ba42fed-2e65-4c89-a4af-27cd074a10b1",
   "metadata": {},
   "outputs": [
    {
     "name": "stdout",
     "output_type": "stream",
     "text": [
      "10 A is purely\n"
     ]
    }
   ],
   "source": [
    "A=40\n",
    "B=4\n",
    "while A >=B:\n",
    "    if A%B==0:\n",
    "        A=A//B\n",
    "    else:\n",
    "        break\n",
    "if A>0:\n",
    "    print(A,'A is purely')\n",
    "else:\n",
    "    print('A is not purely')\n",
    "        \n"
   ]
  },
  {
   "cell_type": "markdown",
   "id": "47ca27c7-e728-45a4-946d-edbbc58ae1d0",
   "metadata": {},
   "source": [
    "Q6. Create a list containing 25 int type data. Using for loop and if-else condition print if the element is divisible by 3 or not."
   ]
  },
  {
   "cell_type": "markdown",
   "id": "bd3cbd1b-adb5-4610-bad9-f5568d5192d1",
   "metadata": {},
   "source": [
    "Ans."
   ]
  },
  {
   "cell_type": "code",
   "execution_count": 2,
   "id": "9489767b-c174-4487-892a-223409d367b7",
   "metadata": {},
   "outputs": [
    {
     "name": "stdout",
     "output_type": "stream",
     "text": [
      "3 is divisible by 3\n",
      "5 is not divisible by 3\n",
      "10 is not divisible by 3\n",
      "12 is divisible by 3\n",
      "15 is divisible by 3\n",
      "19 is not divisible by 3\n",
      "21 is divisible by 3\n",
      "35 is not divisible by 3\n",
      "39 is divisible by 3\n",
      "45 is divisible by 3\n",
      "48 is divisible by 3\n",
      "56 is not divisible by 3\n",
      "60 is divisible by 3\n",
      "65 is not divisible by 3\n",
      "69 is divisible by 3\n",
      "75 is divisible by 3\n",
      "80 is not divisible by 3\n",
      "85 is not divisible by 3\n",
      "90 is divisible by 3\n",
      "95 is not divisible by 3\n",
      "99 is divisible by 3\n",
      "105 is divisible by 3\n",
      "112 is not divisible by 3\n",
      "120 is divisible by 3\n",
      "123 is divisible by 3\n"
     ]
    }
   ],
   "source": [
    "l=[3,5,10,12,15,19,21,35,39,45,48,56,60,65,69,75,80,85,90,95,99,105,112,120,123]\n",
    "for num in l:\n",
    "    if num % 3==0:\n",
    "        print(num,'is divisible by 3')\n",
    "    else:\n",
    "        print(num,'is not divisible by 3')\n",
    "    "
   ]
  },
  {
   "cell_type": "markdown",
   "id": "ff5ff935-d222-4188-9abd-a7364edff61d",
   "metadata": {},
   "source": [
    "Q7. What do you understand about mutable and immutable data types? Give examples for both showing this property."
   ]
  },
  {
   "cell_type": "markdown",
   "id": "d9401a69-3a00-418b-b5c1-ce3be22107ed",
   "metadata": {},
   "source": [
    "Ans. Mutable data types => Mutable data types are types of data that can be modified after they are created. \n",
    "Mutable data types :- List, Sets, Dictionaries\n"
   ]
  },
  {
   "cell_type": "code",
   "execution_count": 3,
   "id": "9f30e0fb-e32f-4436-baa4-e906840ca0f9",
   "metadata": {},
   "outputs": [
    {
     "name": "stdout",
     "output_type": "stream",
     "text": [
      "[2, 10, 5, 6]\n"
     ]
    }
   ],
   "source": [
    "#List data are modified after create.\n",
    "l=[2,1,5,6]\n",
    "l[1]=10\n",
    "print(l)"
   ]
  },
  {
   "cell_type": "code",
   "execution_count": 6,
   "id": "df982975-ee52-46d1-bc7e-d3fb80c8101a",
   "metadata": {},
   "outputs": [
    {
     "name": "stdout",
     "output_type": "stream",
     "text": [
      "{2, 4, 6, 8, 12}\n"
     ]
    }
   ],
   "source": [
    "#Sets data are modified after create.\n",
    "s={4,2,6,8}\n",
    "s.add(12)\n",
    "print(s)"
   ]
  },
  {
   "cell_type": "code",
   "execution_count": 7,
   "id": "30462674-cb4a-4197-9bc7-59a1a93d53ac",
   "metadata": {},
   "outputs": [
    {
     "name": "stdout",
     "output_type": "stream",
     "text": [
      "{'name': 'vikas', 'age': 25, 'add': 'Hisar'}\n"
     ]
    }
   ],
   "source": [
    "#Dictionaries data are modified after create.\n",
    "d={'name':'vikas','age':25}\n",
    "d['add']='Hisar'\n",
    "print(d)\n"
   ]
  },
  {
   "cell_type": "markdown",
   "id": "aefcf24e-e729-4f5b-b0e4-0bf40a1d0957",
   "metadata": {},
   "source": [
    "Immutable data types => Immutable data types are types of data that cannot be changed or modified after they are created.\n",
    "Immutable data types :- Integer, String, Tuples"
   ]
  },
  {
   "cell_type": "code",
   "execution_count": 10,
   "id": "e84f240c-ca2b-4418-bf20-74ade9c38716",
   "metadata": {},
   "outputs": [
    {
     "name": "stdout",
     "output_type": "stream",
     "text": [
      "5\n",
      "40\n"
     ]
    }
   ],
   "source": [
    "x=5\n",
    "print(x)\n",
    "#This creates a new integer creatr not be changed.\n",
    "x=40\n",
    "print(x)"
   ]
  },
  {
   "cell_type": "code",
   "execution_count": null,
   "id": "a0024aa7-fb14-472d-b781-a934bd88448c",
   "metadata": {},
   "outputs": [],
   "source": [
    "#Cannot modify elements in the tuple, so it remains unchanged\n",
    "t=(1,4,5,6)"
   ]
  }
 ],
 "metadata": {
  "kernelspec": {
   "display_name": "Python 3 (ipykernel)",
   "language": "python",
   "name": "python3"
  },
  "language_info": {
   "codemirror_mode": {
    "name": "ipython",
    "version": 3
   },
   "file_extension": ".py",
   "mimetype": "text/x-python",
   "name": "python",
   "nbconvert_exporter": "python",
   "pygments_lexer": "ipython3",
   "version": "3.10.8"
  }
 },
 "nbformat": 4,
 "nbformat_minor": 5
}
