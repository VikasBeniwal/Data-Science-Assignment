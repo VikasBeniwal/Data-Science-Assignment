{
 "cells": [
  {
   "cell_type": "markdown",
   "id": "b2fcfbae-5860-4d10-8bde-d7c4bcffd830",
   "metadata": {},
   "source": [
    "Q1. Which keyword is used to create a function? Create a function to return a list of odd numbers in the\n",
    "range of 1 to 25."
   ]
  },
  {
   "cell_type": "markdown",
   "id": "a397462d-9071-4084-8b1a-5fe5466a5802",
   "metadata": {},
   "source": [
    "Ans."
   ]
  },
  {
   "cell_type": "code",
   "execution_count": null,
   "id": "0b2de18b-c8ff-47f5-887f-b1ff04f5f20d",
   "metadata": {},
   "outputs": [],
   "source": [
    "def old_num(n):\n",
    "    l=[]\n",
    "    for i in range(n):\n",
    "        if i % 2 != 0:\n",
    "            l.append(i)\n",
    "    return l"
   ]
  },
  {
   "cell_type": "code",
   "execution_count": null,
   "id": "9a73c81d-10e7-49ee-b57e-9eea7d5e2750",
   "metadata": {},
   "outputs": [],
   "source": [
    "old_num(26)"
   ]
  },
  {
   "cell_type": "markdown",
   "id": "a4a7cace-9248-4152-83e6-07e24d581efb",
   "metadata": {},
   "source": [
    "Q2. Why *args and **kwargs is used in some functions? Create a function each for *args and **kwargs\n",
    "to demonstrate their use."
   ]
  },
  {
   "cell_type": "markdown",
   "id": "84d9af71-2f41-4c5c-8e31-f3eaff80dfa3",
   "metadata": {},
   "source": [
    "Ans. *args"
   ]
  },
  {
   "cell_type": "code",
   "execution_count": null,
   "id": "08fae7cf-44ad-4fb1-a7f2-41f323cd4e6a",
   "metadata": {},
   "outputs": [],
   "source": [
    "def demo(*args):\n",
    "    for i in args:\n",
    "        print(i)  \n",
    "    "
   ]
  },
  {
   "cell_type": "code",
   "execution_count": null,
   "id": "4f0590c9-5e5a-47d7-b6eb-d297bf3644e2",
   "metadata": {},
   "outputs": [],
   "source": [
    "demo(2,5,7,'hello')"
   ]
  },
  {
   "cell_type": "markdown",
   "id": "b7bb8d11-1cc2-45c0-9a4a-6f70b08cc6e8",
   "metadata": {},
   "source": [
    "=> **kwargs"
   ]
  },
  {
   "cell_type": "code",
   "execution_count": null,
   "id": "18c4d834-45ec-41cd-894f-7f1312f8bd04",
   "metadata": {},
   "outputs": [],
   "source": [
    "def demo1(**kwargs):\n",
    "    for i, j in kwargs.items():\n",
    "        print(i,j)"
   ]
  },
  {
   "cell_type": "code",
   "execution_count": null,
   "id": "a17de601-8e95-403e-84f0-9b9d654046bc",
   "metadata": {},
   "outputs": [],
   "source": [
    "demo1(a=12,b=15,c=20)"
   ]
  },
  {
   "cell_type": "markdown",
   "id": "39b6a859-9f22-4358-af5d-5037e4a4efda",
   "metadata": {},
   "source": [
    "Q3. What is an iterator in python? Name the method used to initialise the iterator object and the method\n",
    "used for iteration. Use these methods to print the first five elements of the given list [2, 4, 6, 8, 10, 12, 14,\n",
    "16, 18, 20]."
   ]
  },
  {
   "cell_type": "markdown",
   "id": "43ecdf9d-e0f7-4c2e-99c3-d08543a6cd0c",
   "metadata": {},
   "source": [
    "Ans. An iterator is an object that represents a stream of data, allowing to iterate over its elements one at a time."
   ]
  },
  {
   "cell_type": "code",
   "execution_count": null,
   "id": "764c10f6-1c29-4586-a695-062aa7e2e50f",
   "metadata": {},
   "outputs": [],
   "source": [
    "l= [2, 4, 6, 8, 10, 12, 14, 16, 18, 20]\n",
    "a = iter(l)\n",
    "for _ in range(5):\n",
    "    l1= next(a)\n",
    "    print(l1)"
   ]
  },
  {
   "cell_type": "markdown",
   "id": "afbec9ca-9eb6-4077-9b5d-c50c1d682d30",
   "metadata": {},
   "source": [
    "Q4. What is a generator function in python? Why yield keyword is used? Give an example of a generator\n",
    "function."
   ]
  },
  {
   "cell_type": "markdown",
   "id": "38f0e185-862c-4309-a9f1-406d4963b434",
   "metadata": {},
   "source": [
    "Ans. A generator function  is a special type of function that allows to iterate over a potentially large sequence of items without storing them all in memory. It generates values on-the-fly  iterate through them, making it memory-efficient. Generator functions are defined like regular functions but use the yield keyword instead of return to yield a value one at a time."
   ]
  },
  {
   "cell_type": "code",
   "execution_count": null,
   "id": "4f589b02-e2b1-42a3-84b9-9f3bcd24ed73",
   "metadata": {},
   "outputs": [],
   "source": [
    "def even_num(n):\n",
    "    a = 0\n",
    "    while a < n:\n",
    "        yield a\n",
    "        a += 2\n",
    "for i in even_num(10):\n",
    "    print(i)"
   ]
  },
  {
   "cell_type": "markdown",
   "id": "c0e0d957-b4d9-4a35-9255-c7585f1611be",
   "metadata": {},
   "source": [
    "Q5. Create a generator function for prime numbers less than 1000. Use the next() method to print the\n",
    "first 20 prime numbers."
   ]
  },
  {
   "cell_type": "markdown",
   "id": "a19d4117-10ec-46d3-a083-e6f02cc2ab10",
   "metadata": {},
   "source": [
    "Ans. "
   ]
  },
  {
   "cell_type": "code",
   "execution_count": null,
   "id": "05b9053e-68b8-4a92-af0d-d761d9bc8ecb",
   "metadata": {},
   "outputs": [],
   "source": [
    "def prime(number):\n",
    "    if number < 2:\n",
    "        return False\n",
    "    for i in range(2, int(number**0.5) + 1):\n",
    "        if number % i == 0:\n",
    "            return False\n",
    "    return True\n",
    "def prime_1(limit):\n",
    "    number = 2\n",
    "    count = 0\n",
    "    while number < limit and count < 20:\n",
    "        if prime(number):\n",
    "            yield number\n",
    "            count += 1\n",
    "        number += 1\n",
    "prime_2 = prime_1(1000)\n",
    "for _ in range(20):\n",
    "    prime_3 = next(prime_2)\n",
    "    print(prime_3)"
   ]
  },
  {
   "cell_type": "markdown",
   "id": "90fe4c9e-a325-4d63-a483-c6836db59ee7",
   "metadata": {},
   "source": [
    "Q6. Write a python program to print the first 10 Fibonacci numbers using a while loop."
   ]
  },
  {
   "cell_type": "markdown",
   "id": "b487dc53-6448-4031-9b0d-2f7dccaf8713",
   "metadata": {},
   "source": [
    "Ans. "
   ]
  },
  {
   "cell_type": "code",
   "execution_count": null,
   "id": "13b6b68e-fd1b-4c3d-87a7-239513b3a3d4",
   "metadata": {},
   "outputs": [],
   "source": [
    "def fibonacci():\n",
    "    a,b=0,1\n",
    "    while True:\n",
    "        yield a\n",
    "        a,b=b,a+b"
   ]
  },
  {
   "cell_type": "code",
   "execution_count": null,
   "id": "06491c93-331e-4449-8a6c-bf54c63554b1",
   "metadata": {},
   "outputs": [],
   "source": [
    "fib=fibonacci()"
   ]
  },
  {
   "cell_type": "code",
   "execution_count": null,
   "id": "3dd4b7de-d1c9-4b34-a142-d7b1ac408f03",
   "metadata": {},
   "outputs": [],
   "source": [
    "for i in range(10):\n",
    "    print(next(fib))"
   ]
  },
  {
   "cell_type": "markdown",
   "id": "a61f5100-037c-40c7-84de-34f22c03479f",
   "metadata": {},
   "source": [
    "Q7. Write a List Comprehension to iterate through the given string: ‘pwskills’.\n",
    "Expected output: ['p', 'w', 's', 'k', 'i', 'l', 'l', 's']"
   ]
  },
  {
   "cell_type": "markdown",
   "id": "e80d89ed-27e0-4388-bf5b-45a33a3419a0",
   "metadata": {},
   "source": [
    "Ans. "
   ]
  },
  {
   "cell_type": "code",
   "execution_count": null,
   "id": "b08c4bfe-06b9-42de-821d-60e9bdaf4341",
   "metadata": {},
   "outputs": [],
   "source": [
    "a='pwskills'\n",
    "l=[]\n",
    "for i in iter(a):\n",
    "    l.append(i)\n",
    "print(l)"
   ]
  },
  {
   "cell_type": "markdown",
   "id": "8304fe69-f53d-43e0-a8c1-9f8c80c4130b",
   "metadata": {},
   "source": [
    "Q8. Write a python program to check whether a given number is Palindrome or not using a while loop."
   ]
  },
  {
   "cell_type": "markdown",
   "id": "c05bf07b-1409-4c7c-a378-52ed9980fd48",
   "metadata": {},
   "source": [
    "Ans. "
   ]
  },
  {
   "cell_type": "code",
   "execution_count": null,
   "id": "cd996387-f52b-4d17-b968-a1cb279164af",
   "metadata": {},
   "outputs": [],
   "source": [
    "def palindrome(number):\n",
    "    original_number = number\n",
    "    reversed_number = 0\n",
    "    while number > 0:\n",
    "        digit = number % 10\n",
    "        reversed_number = reversed_number * 10 + digit\n",
    "        number = number // 10\n",
    "    return original_number == reversed_number\n",
    "num = int(input(\"Enter a number: \"))\n",
    "\n",
    "if palindrome(num):\n",
    "    print(f\"{num} is a palindrome.\")\n",
    "else:\n",
    "    print(f\"{num} is not a palindrome.\")"
   ]
  },
  {
   "cell_type": "markdown",
   "id": "fd6deed2-e8e4-45f1-9963-8d61dac0fc72",
   "metadata": {},
   "source": [
    "Q9. Write a code to print odd numbers from 1 to 100 using list comprehension."
   ]
  },
  {
   "cell_type": "markdown",
   "id": "99a0ab50-06cf-42ae-8959-e3b29ea6d118",
   "metadata": {},
   "source": [
    "Ans."
   ]
  },
  {
   "cell_type": "code",
   "execution_count": null,
   "id": "371b23c8-a540-4523-a8a2-4280df8f04aa",
   "metadata": {},
   "outputs": [],
   "source": [
    "a=int(input())\n",
    "l=[]\n",
    "for i in range(a):\n",
    "    if i % 2 !=0:\n",
    "        l.append(i)\n",
    "print(l)"
   ]
  },
  {
   "cell_type": "code",
   "execution_count": null,
   "id": "63bc002a-0dfa-474c-9e46-017c51c82d26",
   "metadata": {},
   "outputs": [],
   "source": []
  },
  {
   "cell_type": "code",
   "execution_count": null,
   "id": "9116ea6b-a818-4f46-aa2d-dd98eb20c9e6",
   "metadata": {},
   "outputs": [],
   "source": []
  },
  {
   "cell_type": "code",
   "execution_count": null,
   "id": "3eb1c154-23a8-4b18-8c57-d1ae38984972",
   "metadata": {},
   "outputs": [],
   "source": []
  },
  {
   "cell_type": "code",
   "execution_count": null,
   "id": "64269568-5bb2-4063-98cf-f367d631e4bb",
   "metadata": {},
   "outputs": [],
   "source": []
  }
 ],
 "metadata": {
  "kernelspec": {
   "display_name": "Python 3 (ipykernel)",
   "language": "python",
   "name": "python3"
  },
  "language_info": {
   "codemirror_mode": {
    "name": "ipython",
    "version": 3
   },
   "file_extension": ".py",
   "mimetype": "text/x-python",
   "name": "python",
   "nbconvert_exporter": "python",
   "pygments_lexer": "ipython3",
   "version": "3.10.8"
  }
 },
 "nbformat": 4,
 "nbformat_minor": 5
}
