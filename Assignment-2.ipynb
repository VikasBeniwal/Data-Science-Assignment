{
 "cells": [
  {
   "cell_type": "markdown",
   "id": "7b8777b6-53a4-45e1-b2fd-5ff44a84ad0b",
   "metadata": {},
   "source": [
    "Q1. How do you comment code in python? What are the different types of comments?"
   ]
  },
  {
   "cell_type": "markdown",
   "id": "77f959a3-18b8-4ce2-8ac2-1b3a0def3b00",
   "metadata": {},
   "source": [
    "Ans. Comments in python mean that python ignores them and the interpreter does not run them. There are two ways  add comments in Python.\n",
    "\n",
    "(1) Single-line comments:\n",
    "                          The hash character (#) to create single-line comments. Everything on a line after the hash symbol is treated as a comment and is ignored by the interpreter. "
   ]
  },
  {
   "cell_type": "code",
   "execution_count": 1,
   "id": "5e3971c0-39b8-4cc1-bb04-8a57fda7e344",
   "metadata": {},
   "outputs": [
    {
     "name": "stdout",
     "output_type": "stream",
     "text": [
      "Hello World\n"
     ]
    }
   ],
   "source": [
    "# This is a single-line comment\n",
    "print(\"Hello World\")  # This is another comment\n"
   ]
  },
  {
   "cell_type": "markdown",
   "id": "21ac2674-e2e5-47c4-a692-403bf6d129a3",
   "metadata": {},
   "source": [
    "(2) Multi-line comments:\n",
    "                        Multi-line comments are often written using docstrings. Docstrings are triple-quoted strings ( single or double quotes) that can span multiple lines. "
   ]
  },
  {
   "cell_type": "code",
   "execution_count": 2,
   "id": "d2f23b1a-e111-492e-8a4e-b6fdf15c31b3",
   "metadata": {},
   "outputs": [
    {
     "data": {
      "text/plain": [
       "'\\nMulti-line comments are often written using docstrings. Docstrings are triple-quoted strings ( single or double quotes) that can span multiple lines.\\n'"
      ]
     },
     "execution_count": 2,
     "metadata": {},
     "output_type": "execute_result"
    }
   ],
   "source": [
    "\"\"\"\n",
    "Multi-line comments are often written using docstrings. Docstrings are triple-quoted strings ( single or double quotes) that can span multiple lines.\n",
    "\"\"\"\n",
    "# Rest of the code goes here\n"
   ]
  },
  {
   "cell_type": "markdown",
   "id": "2bbedc13-77c7-4ecd-8e72-6664f3d1f22f",
   "metadata": {},
   "source": [
    "Q2. What are variables in python? How do you declare and assign values to variables?"
   ]
  },
  {
   "cell_type": "markdown",
   "id": "a5e0637c-8d5a-407c-b9a5-d89428a6e59c",
   "metadata": {},
   "source": [
    "Ans. Variables are used to store and manipulate data. A variable is essentially a named container for holding values, and it can represent a wide range of data types, including numbers, strings, lists, and more. \n",
    "\n",
    "=> Variable Declaration:\n",
    "                        To declare a variable choose a name for the variable and use the equal sign (=) to assign a value to it. Variable names \n",
    "A letter (a-z, A-Z) or underscore (_)       "
   ]
  },
  {
   "cell_type": "code",
   "execution_count": 3,
   "id": "353b9660-bfb6-4dc2-90d2-edc6fe32e798",
   "metadata": {},
   "outputs": [],
   "source": [
    "my_var = 42 \n",
    "name = \"hello\"    \n",
    "x = 3.14 "
   ]
  },
  {
   "cell_type": "markdown",
   "id": "fdb4cc13-2517-4f04-940f-055b9f87535c",
   "metadata": {},
   "source": [
    "Variable Assignment:\n",
    "                    Assign values to variables when declare them the value of a variable at any point in code by using the assignment operator (=)."
   ]
  },
  {
   "cell_type": "code",
   "execution_count": 4,
   "id": "d899e426-2b56-4379-a4c2-e01101732caf",
   "metadata": {},
   "outputs": [],
   "source": [
    "a=45\n",
    "b=50"
   ]
  },
  {
   "cell_type": "markdown",
   "id": "596dfcdd-243a-40ea-9e31-5eb53ef1c57f",
   "metadata": {},
   "source": [
    "Q3. How do you convert one data type to another in python?"
   ]
  },
  {
   "cell_type": "markdown",
   "id": "6b72d2b6-1a84-494a-a282-4b1337fed6a7",
   "metadata": {},
   "source": [
    "Ans. Convert one one data type to another."
   ]
  },
  {
   "cell_type": "code",
   "execution_count": 5,
   "id": "516c41b6-156f-4c96-ba7c-4cc11cdec077",
   "metadata": {},
   "outputs": [
    {
     "name": "stdout",
     "output_type": "stream",
     "text": [
      "<class 'int'> 45 <class 'float'> 45.0\n"
     ]
    }
   ],
   "source": [
    "a=45\n",
    "b=float(a)\n",
    "print(type(a),a,type(b),b)"
   ]
  },
  {
   "cell_type": "code",
   "execution_count": 6,
   "id": "bc7370ed-a40f-4439-8f24-499c7174a3d8",
   "metadata": {},
   "outputs": [
    {
     "name": "stdout",
     "output_type": "stream",
     "text": [
      "<class 'tuple'> (4, 5, 2, 8, 7, 6, 3, 'hello') <class 'list'> [4, 5, 2, 8, 7, 6, 3, 'hello']\n"
     ]
    }
   ],
   "source": [
    "t=(4,5,2,8,7,6,3,'hello')\n",
    "l=list(t)\n",
    "print(type(t),t,type(l),l)"
   ]
  },
  {
   "cell_type": "markdown",
   "id": "92986000-bdb5-42f5-8056-fc25db4fc2aa",
   "metadata": {},
   "source": [
    "Q4. How do you write and execute a python script from the command line?"
   ]
  },
  {
   "cell_type": "markdown",
   "id": "7140f956-fee6-42ae-ba56-1e9e418ef112",
   "metadata": {},
   "source": [
    "Ans. To run a Python script store in a ‘.py’ file in the command line, we have to write ‘python’ keyword before the file name in the command\n",
    "\n",
    " python hello.py\n",
    "\n",
    "You can write your own file name in place of ‘hello.py’"
   ]
  },
  {
   "cell_type": "markdown",
   "id": "15d16f4f-2a13-44e9-954e-812d01aaea23",
   "metadata": {},
   "source": [
    "Q5. Given a list my_list = [1, 2, 3, 4, 5], write the code to slice the list and obtain the sub-list [2, 3]."
   ]
  },
  {
   "cell_type": "markdown",
   "id": "b391e7d9-8635-4388-8adc-ef85f4c61725",
   "metadata": {},
   "source": [
    "Ans. "
   ]
  },
  {
   "cell_type": "code",
   "execution_count": 7,
   "id": "33b45cc7-6890-4622-9d58-036ba88a8c9e",
   "metadata": {},
   "outputs": [
    {
     "name": "stdout",
     "output_type": "stream",
     "text": [
      "[2, 3]\n"
     ]
    }
   ],
   "source": [
    "my_list=[1,2,3,4,5]\n",
    "sub_list=my_list[1:3]\n",
    "print(sub_list)"
   ]
  },
  {
   "cell_type": "markdown",
   "id": "20c5b526-c31f-405e-b11f-490573b9897b",
   "metadata": {},
   "source": [
    "Q6. What is a complex number in mathematics, and how is it represented in Python?"
   ]
  },
  {
   "cell_type": "markdown",
   "id": "70b180a9-af2e-4ffa-8626-4ec56c7b692f",
   "metadata": {},
   "source": [
    "Ans. In mathematics a complex number is a number that can be expressed in the form a + bi, where a are real numbers, and i is the imaginary unit, defined as the square root of -1. The real part a is a real number, and the imaginary part b is a real number multiplied by i"
   ]
  },
  {
   "cell_type": "markdown",
   "id": "35564ee4-ace2-4f4c-a7fb-3bba804c1474",
   "metadata": {},
   "source": [
    "In Python complex numbers are represented using the j suffix to denote the imaginary unit."
   ]
  },
  {
   "cell_type": "code",
   "execution_count": 8,
   "id": "1d97cacd-ea3e-4e0f-8e00-e54f320f00fc",
   "metadata": {},
   "outputs": [
    {
     "data": {
      "text/plain": [
       "complex"
      ]
     },
     "execution_count": 8,
     "metadata": {},
     "output_type": "execute_result"
    }
   ],
   "source": [
    "x=5+4j\n",
    "type(x)"
   ]
  },
  {
   "cell_type": "markdown",
   "id": "6329fcb1-2ed0-4152-81b3-88a0eb30d4d6",
   "metadata": {},
   "source": [
    "Q7. What is the correct way to declare a variable named age and assign the value 25 to it?"
   ]
  },
  {
   "cell_type": "markdown",
   "id": "45503f0a-8bcc-4906-b5ae-b6cf86b28d8f",
   "metadata": {},
   "source": [
    "Ans. To declare a variable named age and assign the value 25 to it "
   ]
  },
  {
   "cell_type": "code",
   "execution_count": 9,
   "id": "6f877f87-bc99-42f3-a71c-1fb847a76b23",
   "metadata": {},
   "outputs": [],
   "source": [
    "age=25"
   ]
  },
  {
   "cell_type": "code",
   "execution_count": 10,
   "id": "6c715abf-c279-4cd2-95d8-05e1afd93c99",
   "metadata": {},
   "outputs": [
    {
     "data": {
      "text/plain": [
       "25"
      ]
     },
     "execution_count": 10,
     "metadata": {},
     "output_type": "execute_result"
    }
   ],
   "source": [
    "age"
   ]
  },
  {
   "cell_type": "markdown",
   "id": "a1a984f7-1268-43ad-9b8f-e1eb02946281",
   "metadata": {},
   "source": [
    "Q8. Declare a variable named price and assign the value 9.99 to it. What data type does this variable\n",
    "belong to?"
   ]
  },
  {
   "cell_type": "markdown",
   "id": "3e834fe3-3992-4ef5-b01d-06bd95dabfc3",
   "metadata": {},
   "source": [
    "Ans. To declare a variable named price and assign the value 9.99 to it"
   ]
  },
  {
   "cell_type": "code",
   "execution_count": 11,
   "id": "179f00db-3597-4081-87c8-f25cd85b7185",
   "metadata": {},
   "outputs": [
    {
     "data": {
      "text/plain": [
       "float"
      ]
     },
     "execution_count": 11,
     "metadata": {},
     "output_type": "execute_result"
    }
   ],
   "source": [
    "price=9.99\n",
    "type(price)"
   ]
  },
  {
   "cell_type": "markdown",
   "id": "23142fff-c746-4643-889b-9f22a1e7f627",
   "metadata": {},
   "source": [
    "Q9. Create a variable named name and assign your full name to it as a string. How would you print the\n",
    "value of this variable?"
   ]
  },
  {
   "cell_type": "markdown",
   "id": "9ee3aaa4-4b3f-4321-ad6b-3d78490a74f7",
   "metadata": {},
   "source": [
    "Ans."
   ]
  },
  {
   "cell_type": "code",
   "execution_count": 12,
   "id": "6abdfc8f-8e09-4a68-8f18-2f1649311846",
   "metadata": {},
   "outputs": [
    {
     "name": "stdout",
     "output_type": "stream",
     "text": [
      "Vikas Bemiwal\n"
     ]
    }
   ],
   "source": [
    "name='Vikas Bemiwal'\n",
    "print(name)"
   ]
  },
  {
   "cell_type": "markdown",
   "id": "cee5b9ad-dc33-45c0-9b19-706195f6fbbc",
   "metadata": {},
   "source": [
    "Q10. Given the string \"Hello, World!\", extract the substring \"World\"."
   ]
  },
  {
   "cell_type": "markdown",
   "id": "ba63938a-1aab-478f-9c0f-8c58539f8bb6",
   "metadata": {},
   "source": [
    "Ans. "
   ]
  },
  {
   "cell_type": "code",
   "execution_count": 13,
   "id": "4e87db98-f3be-41ec-8fb6-f6e07829bf97",
   "metadata": {},
   "outputs": [
    {
     "name": "stdout",
     "output_type": "stream",
     "text": [
      "World\n"
     ]
    }
   ],
   "source": [
    "a='Hello, World!'\n",
    "sub_string=a[7:12]\n",
    "print(sub_string)"
   ]
  },
  {
   "cell_type": "markdown",
   "id": "7ca20836-2151-402c-b5c6-ebf193268b07",
   "metadata": {},
   "source": [
    "Q11. Create a variable named \"is_student\" and assign it a boolean value indicating whether you are currently a student or not."
   ]
  },
  {
   "cell_type": "markdown",
   "id": "d050ab5b-0281-4db4-b2cb-886da3f36e39",
   "metadata": {},
   "source": [
    "Ans. "
   ]
  },
  {
   "cell_type": "code",
   "execution_count": 14,
   "id": "c8094849-8ea7-4e95-a463-47fe37fa9e52",
   "metadata": {},
   "outputs": [],
   "source": [
    "is_student=True"
   ]
  },
  {
   "cell_type": "code",
   "execution_count": 15,
   "id": "a2e6a82b-b17f-43f7-9568-f396f15f1c91",
   "metadata": {},
   "outputs": [
    {
     "data": {
      "text/plain": [
       "True"
      ]
     },
     "execution_count": 15,
     "metadata": {},
     "output_type": "execute_result"
    }
   ],
   "source": [
    "is_student"
   ]
  },
  {
   "cell_type": "code",
   "execution_count": null,
   "id": "6048023f-2cf4-4a70-adda-f7f38eeb122e",
   "metadata": {},
   "outputs": [],
   "source": []
  },
  {
   "cell_type": "code",
   "execution_count": null,
   "id": "7c581506-0a00-43fd-963d-10abad6db2b4",
   "metadata": {},
   "outputs": [],
   "source": []
  },
  {
   "cell_type": "code",
   "execution_count": null,
   "id": "99716049-8e4c-4c2b-ba6c-d3f3e85b5669",
   "metadata": {},
   "outputs": [],
   "source": []
  },
  {
   "cell_type": "code",
   "execution_count": null,
   "id": "c228efb6-298f-4cec-8bae-0ec4adc4cb61",
   "metadata": {},
   "outputs": [],
   "source": []
  }
 ],
 "metadata": {
  "kernelspec": {
   "display_name": "Python 3 (ipykernel)",
   "language": "python",
   "name": "python3"
  },
  "language_info": {
   "codemirror_mode": {
    "name": "ipython",
    "version": 3
   },
   "file_extension": ".py",
   "mimetype": "text/x-python",
   "name": "python",
   "nbconvert_exporter": "python",
   "pygments_lexer": "ipython3",
   "version": "3.10.8"
  }
 },
 "nbformat": 4,
 "nbformat_minor": 5
}
